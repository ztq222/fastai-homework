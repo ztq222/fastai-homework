{
 "cells": [
  {
   "cell_type": "code",
   "execution_count": 1,
   "metadata": {},
   "outputs": [],
   "source": [
    "import numpy as np\n",
    "import matplotlib.pyplot as plt\n",
    "import pandas as pd"
   ]
  },
  {
   "cell_type": "code",
   "execution_count": 2,
   "metadata": {},
   "outputs": [],
   "source": [
    "## this script will build a neural network clissifer to slove XOR problem.\n",
    "## this neural network has a input layer with 2 cells and 1 hidden layer with 3 cells, and a output layer with 1 cell\n",
    "\n",
    "data  = np.array([[0,0],[0,1],[1,0],[1,1]])\n",
    "label = np.array([[0],[1],[1],[0]])"
   ]
  },
  {
   "cell_type": "code",
   "execution_count": 6,
   "metadata": {},
   "outputs": [
    {
     "data": {
      "text/html": [
       "<img src=\"https://images2015.cnblogs.com/blog/1035701/201704/1035701-20170414195906923-1457391618.png\", width=600>\n"
      ],
      "text/plain": [
       "<IPython.core.display.HTML object>"
      ]
     },
     "metadata": {},
     "output_type": "display_data"
    }
   ],
   "source": [
    "%%html\n",
    "<img src=\"https://images2015.cnblogs.com/blog/1035701/201704/1035701-20170414195906923-1457391618.png\", width=600>"
   ]
  },
  {
   "cell_type": "code",
   "execution_count": 21,
   "metadata": {},
   "outputs": [
    {
     "name": "stdout",
     "output_type": "stream",
     "text": [
      "weight_L1 is: [[ 1.08992839  0.45456791]\n",
      " [-1.00621354  0.65371067]\n",
      " [ 1.12979661  2.86427326]]\n",
      "weight_L2 is: [[1.60787425]\n",
      " [0.47556858]\n",
      " [2.51928563]]\n",
      "offset is: [0.25 0.25 0.25]\n"
     ]
    }
   ],
   "source": [
    "## initiate weight and offset\n",
    "\n",
    "weight_L1 = np.random.randn(3,2)\n",
    "weight_L2 = np.random.randn(3,1)\n",
    "\n",
    "offset =np.ones(3)/4\n",
    "\n",
    "print('weight_L1 is:', weight_L1)\n",
    "print('weight_L2 is:', weight_L2)\n",
    "print('offset is:', offset)\n",
    "learning_rate = 0.05"
   ]
  },
  {
   "cell_type": "code",
   "execution_count": 8,
   "metadata": {},
   "outputs": [],
   "source": [
    "## intiate activation function\n",
    "def sigmoid(x):\n",
    "    return (1 / (1 + np.exp(-x)))\n",
    "    \n",
    "    \n",
    "def der_sigmoid(x):\n",
    "    return (x * (1 - x))\n",
    "\n",
    "\n",
    "def Relu(x):\n",
    "    if x < 0:\n",
    "        return 0\n",
    "    else:\n",
    "        return x\n",
    "    \n",
    "def der_Relu(x):\n",
    "    if x < 0:\n",
    "        return 0\n",
    "    else:\n",
    "        return 1\n"
   ]
  },
  {
   "cell_type": "code",
   "execution_count": 11,
   "metadata": {},
   "outputs": [],
   "source": [
    "## forward prop\n",
    "\n",
    "forwards = sigmoid(sigmoid(np.dot(data, weight_L1.T) + offset).dot(weight_L2))\n",
    "out_hidden = np.dot(data, weight_L1.T) + offset\n",
    "# print(forwards)\n",
    "## lost \n",
    "lost =  ((label- forwards) ** 2)/2\n",
    "lost = lost.sum()"
   ]
  },
  {
   "cell_type": "code",
   "execution_count": 12,
   "metadata": {},
   "outputs": [
    {
     "name": "stdout",
     "output_type": "stream",
     "text": [
      "[[-0.41693907]\n",
      " [ 0.49987015]\n",
      " [ 0.62660361]\n",
      " [-0.45293881]]\n",
      "[[0.24310088]\n",
      " [0.24999998]\n",
      " [0.23397153]\n",
      " [0.24778524]]\n",
      "[[0.41693907]\n",
      " [0.50012985]\n",
      " [0.37339639]\n",
      " [0.45293881]]\n",
      "[[ 0.25        0.25        0.25      ]\n",
      " [-0.12881999 -1.17177402  1.80035623]\n",
      " [ 1.11821271 -0.31028182 -0.12158142]\n",
      " [ 0.73939273 -1.73205584  1.4287748 ]]\n"
     ]
    },
    {
     "data": {
      "text/plain": [
       "array([[-0.17761037],\n",
       "       [ 0.21293788],\n",
       "       [ 0.26692461],\n",
       "       [-0.19294577]])"
      ]
     },
     "execution_count": 12,
     "metadata": {},
     "output_type": "execute_result"
    }
   ],
   "source": [
    "deltaE_deltaOut = label - forwards\n",
    "deltaOut_deltaNet = forwards * (1 - forwards)\n",
    "deltaNet_delta = forwards\n",
    "\n",
    "print(deltaE_deltaOut)\n",
    "print(deltaOut_deltaNet)\n",
    "print(deltaNet_delta)\n",
    "print(out_hidden)\n",
    "np.dot(deltaE_deltaOut, deltaOut_deltaNet.T).dot(deltaNet_delta)"
   ]
  },
  {
   "cell_type": "code",
   "execution_count": 20,
   "metadata": {
    "scrolled": false
   },
   "outputs": [
    {
     "data": {
      "text/plain": [
       "array([[-0.88080018],\n",
       "       [-0.27125624],\n",
       "       [ 0.55553274]])"
      ]
     },
     "execution_count": 20,
     "metadata": {},
     "output_type": "execute_result"
    }
   ],
   "source": [
    "## update weight \n",
    "np.dot(deltaE_deltaOut,deltaOut_deltaNet.T,).dot(out_hidden).sum(axis = 0)\n",
    "\n",
    "\n",
    "\n",
    "weight_L2"
   ]
  },
  {
   "cell_type": "code",
   "execution_count": 22,
   "metadata": {},
   "outputs": [
    {
     "data": {
      "text/plain": [
       "array([[-0.20086322, -0.20754611],\n",
       "       [ 0.24081583,  0.24882798],\n",
       "       [ 0.30187053,  0.31191402],\n",
       "       [-0.21820634, -0.22546625]])"
      ]
     },
     "execution_count": 22,
     "metadata": {},
     "output_type": "execute_result"
    }
   ],
   "source": [
    "np.dot(deltaE_deltaOut,deltaOut_deltaNet.T,).dot(data)"
   ]
  },
  {
   "cell_type": "code",
   "execution_count": 9,
   "metadata": {},
   "outputs": [
    {
     "ename": "SyntaxError",
     "evalue": "invalid syntax (<ipython-input-9-19110a46eebd>, line 1)",
     "output_type": "error",
     "traceback": [
      "\u001b[1;36m  File \u001b[1;32m\"<ipython-input-9-19110a46eebd>\"\u001b[1;36m, line \u001b[1;32m1\u001b[0m\n\u001b[1;33m    def xor_model(lr)\u001b[0m\n\u001b[1;37m                     ^\u001b[0m\n\u001b[1;31mSyntaxError\u001b[0m\u001b[1;31m:\u001b[0m invalid syntax\n"
     ]
    }
   ],
   "source": [
    "def xor_model(lr)\n",
    "    global weight_L1, weight_L2, lost\n",
    "    out = sigmoid(sigmoid(np.dot(data, weight_L1.T) + offset).dot(weight_L2))\n",
    "    \n",
    "    lost =  ((label- forwards) ** 2)/2\n",
    "    \n",
    "## back prop layer2\n",
    "\n",
    "    deltaE_deltaOut = label - forwards\n",
    "    deltaOut_deltaNet = forwards * (1 - forwards)\n",
    "    deltaNet_delta = out_hidden\n",
    "    W2_delta = np.dot(deltaE_deltaOut,deltaOut_deltaNet.T,).dot(out_hidden).sum(axis = 0)\n",
    "    \n",
    "    weight_L2 += lr * W2_delta\n",
    "    \n",
    "    ## layer 1 weight update\n",
    "    \n",
    "    \n",
    "    "
   ]
  },
  {
   "cell_type": "code",
   "execution_count": null,
   "metadata": {},
   "outputs": [],
   "source": [
    "## reference https://www.cnblogs.com/wlzy/p/7751297.html"
   ]
  },
  {
   "cell_type": "code",
   "execution_count": null,
   "metadata": {},
   "outputs": [],
   "source": [
    "data"
   ]
  },
  {
   "cell_type": "code",
   "execution_count": null,
   "metadata": {},
   "outputs": [],
   "source": [
    "weight_L1"
   ]
  },
  {
   "cell_type": "code",
   "execution_count": null,
   "metadata": {},
   "outputs": [],
   "source": [
    "sigmoid(np.dot(data, weight_L1.T) + offset).dot(weight_L2)"
   ]
  },
  {
   "cell_type": "code",
   "execution_count": null,
   "metadata": {},
   "outputs": [],
   "source": [
    "weight_L2"
   ]
  },
  {
   "cell_type": "code",
   "execution_count": null,
   "metadata": {},
   "outputs": [],
   "source": []
  }
 ],
 "metadata": {
  "kernelspec": {
   "display_name": "Python 3",
   "language": "python",
   "name": "python3"
  },
  "language_info": {
   "codemirror_mode": {
    "name": "ipython",
    "version": 3
   },
   "file_extension": ".py",
   "mimetype": "text/x-python",
   "name": "python",
   "nbconvert_exporter": "python",
   "pygments_lexer": "ipython3",
   "version": "3.7.1"
  }
 },
 "nbformat": 4,
 "nbformat_minor": 2
}
